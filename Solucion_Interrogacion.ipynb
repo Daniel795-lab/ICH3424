{
  "nbformat": 4,
  "nbformat_minor": 0,
  "metadata": {
    "colab": {
      "name": "Solucion_Interrogacion.ipynb",
      "provenance": [],
      "collapsed_sections": [],
      "authorship_tag": "ABX9TyPqKITiGpEjm6yEb9SOSszq",
      "include_colab_link": true
    },
    "kernelspec": {
      "name": "python3",
      "display_name": "Python 3"
    }
  },
  "cells": [
    {
      "cell_type": "markdown",
      "metadata": {
        "id": "view-in-github",
        "colab_type": "text"
      },
      "source": [
        "<a href=\"https://colab.research.google.com/github/mqquiroz/ICH3424/blob/master/Solucion_Interrogacion.ipynb\" target=\"_parent\"><img src=\"https://colab.research.google.com/assets/colab-badge.svg\" alt=\"Open In Colab\"/></a>"
      ]
    },
    {
      "cell_type": "markdown",
      "metadata": {
        "id": "iaZ3N2b28V6e"
      },
      "source": [
        "# Interrogación ICH3424 - Semestre 2020\n",
        "\n",
        "## Preguntas con Alternativas"
      ]
    },
    {
      "cell_type": "code",
      "metadata": {
        "id": "30N1a3XkNPBw"
      },
      "source": [
        "#Cargamos librerias\n",
        "import numpy as np\n",
        "import matplotlib.pyplot as plt\n",
        "\n",
        "#Constantes\n",
        "g   = 9.81 #(m/s2)\n",
        "rho = 1000 #(kg/m3)\n",
        "\n",
        "#Solucion ecuación de dispersion\n",
        "def disper(T,h,delta_c=0.0001,tol=1e-6):\n",
        "  #constante\n",
        "  g = 9.81 #m/s2\n",
        "  f = 1/T\n",
        "  C = np.sqrt(g*h)\n",
        "  for i in range(15):\n",
        "    k = 2*np.pi*f/C\n",
        "    C = np.sqrt((g/k)*np.tanh(k*h))\n",
        "    if delta_c*k/(2*np.pi*f) <= tol:\n",
        "      break\n",
        "  return C"
      ],
      "execution_count": null,
      "outputs": []
    },
    {
      "cell_type": "markdown",
      "metadata": {
        "id": "ZqX6amOs8lwu"
      },
      "source": [
        "---\n",
        "1) ¿Qué representa la ecuación de Laplace en la teoría de ondas lineales?\n",
        "\n",
        "* A. La condición de borde dinámica\n",
        "* **B. El balance de masa**\n",
        "* C. El balance de momentum\n",
        "* D. La condición de borde cinemática"
      ]
    },
    {
      "cell_type": "markdown",
      "metadata": {
        "id": "QI43xkomf3V7"
      },
      "source": [
        "En la teoría lineal de ondas, la ecuación de Laplace representa la conservación de la masa (del agua) bajo la condición de densidad constante (equivalente a la ecuación de continuidad) en combinación con el movimiento sin rotación (flujo irrotacional). La velocidad en la ecuación de balance de masa original (o ecuación de continuidad) ha sido reemplazada por las derivadas espaciales de la función de potencial de velocidad, creando la ecuación de Laplace."
      ]
    },
    {
      "cell_type": "markdown",
      "metadata": {
        "id": "zh9lDeTI8uTp"
      },
      "source": [
        "---\n",
        "2) Olas con incidencia normal a la línea de costa de período 8 s y altura de ola 1 m a una profundidad d = 70 m. ¿Cuál de estas figuras muestra la evolución correcta de la altura de las olas en función de la profundidad cuando se ignoran todas las fuentes de disipación?"
      ]
    },
    {
      "cell_type": "markdown",
      "metadata": {
        "id": "uvaN8AiiSJpU"
      },
      "source": [
        "Aplicamos conservación del flujo de Energía:\n",
        "\n",
        "\\begin{align}\n",
        "\\mathscr{F}_{0} &= \\mathscr{F}_{h} \\\\\n",
        "E_{0}C_{g_{0}} &= E_{h}C_{g_{h}} \\\\\n",
        "\\frac{1}{8}\\rho g H_{0}^{2}C_{g_{0}} &= \\frac{1}{8}\\rho g H_{h}^{2}C_{g_{h}} \\\\\n",
        "H_{0}^{2}C_{g_{0}} &= H_{h}^{2}C_{g_{h}}\n",
        "\\end{align}\n",
        "\n",
        "Podemos resolver para $H_{h}=H(h)$:\n",
        "\n",
        "$$H(h) = H_{0} \\sqrt{\\frac{C_{g_{0}}}{C_{g}(h)}}$$\n",
        "\n",
        "Con:\n",
        "\n",
        "$$C_{g_{0}} = \\frac{C_{0}}{2} = \\frac{1}{2}\\left(\\frac{gT}{2\\pi}\\right)$$\n",
        "\n",
        "$$C_{g}(h) = C\\cdot n = C\\cdot \\frac{1}{2}\\left(1+\\frac{2kh}{\\sinh(2kh)} \\right) $$"
      ]
    },
    {
      "cell_type": "code",
      "metadata": {
        "id": "APItotyDnNdo",
        "outputId": "9d329663-cdaf-4b67-fccb-f61c20640a5a",
        "colab": {
          "base_uri": "https://localhost:8080/",
          "height": 402
        }
      },
      "source": [
        "#Datos\n",
        "T = 8  #(s)\n",
        "H = 1  #(m)\n",
        "h = 70 #(m)\n",
        "\n",
        "w = 2*np.pi/T\n",
        "\n",
        "C = disper(T,h)\n",
        "L = C*T\n",
        "\n",
        "print('La profundidad relativa es:',np.round(h/L,2))\n",
        "\n",
        "Cg0 = C/2#((g*T)/(2*np.pi))/2\n",
        "\n",
        "dh = -0.5\n",
        "h_vec = np.arange(h,0,dh) #(0.025*h)+dh\n",
        "\n",
        "C1 = np.array([disper(T,h_vec[i]) for i in range(len(h_vec))])\n",
        "k1  = w/C1\n",
        "n   = (1/2)*(1 + ( (2*k1*h_vec)/np.sinh(2*k1*h_vec) ))\n",
        "Cg1 = n*C1\n",
        "H_h = H*np.sqrt(Cg0/Cg1)\n",
        "\n",
        "\n",
        "alto  = 5.5\n",
        "ancho = 10\n",
        "fig = plt.figure(figsize=(ancho, alto))\n",
        "\n",
        "\n",
        "plt.axhline(y=H,linewidth=0.75, linestyle='--', color='k')\n",
        "plt.plot(h_vec,H_h,'b')\n",
        "plt.xlabel('$h$ (m)')\n",
        "plt.ylabel('$H$ (m)')\n",
        "plt.grid(color='lightgray', linestyle='--', linewidth=0.25)\n",
        "plt.xlim(0,h)\n",
        "plt.show()"
      ],
      "execution_count": null,
      "outputs": [
        {
          "output_type": "stream",
          "text": [
            "La profundidad relativa es: 0.7\n"
          ],
          "name": "stdout"
        },
        {
          "output_type": "display_data",
          "data": {
            "image/png": "[encoded data removed]",
            "text/plain": [
              "<Figure size 720x396 with 1 Axes>"
            ]
          },
          "metadata": {
            "tags": [],
            "needs_background": "light"
          }
        }
      ]
    },
    {
      "cell_type": "markdown",
      "metadata": {
        "id": "V34elbr18uJx"
      },
      "source": [
        "---\n",
        "3) En aguas someras, la magnitud de la componente vertical de la velocidad orbital:\n",
        "\n",
        "* A. Disminuye exponencialmente con profundidad\n",
        "* **B. Disminuye linealmente con la profundidad**\n",
        "* C. Permanece constante con profundidad\n",
        "* D. Aumenta linealmente con la profundidad"
      ]
    },
    {
      "cell_type": "markdown",
      "metadata": {
        "id": "-gItLzcOJ2ZZ"
      },
      "source": [
        "La velocidad orbital para la componente vertical ($z$) es:\n",
        "\n",
        "$$u_{z}=\\omega a \\frac{\\sinh [k(h+z)]}{\\sinh (k h)} \\cos (\\omega t-k x)$$\n",
        "\n",
        "también puede ser expresado como:\n",
        "\n",
        "$$u_{z}=\\hat{u}_{z} \\cos (\\omega t-k x) \\quad \\text{con} \\quad \\hat{u}_{z}=\\omega a \\frac{\\sinh [k(h+z)]}{\\sinh (k h)}$$\n",
        "\n",
        "En aguas someras, i.e., cuando $kh\\longrightarrow 0$, tenemos que:\n",
        "\n",
        "\\begin{align}\n",
        "\\frac{\\sinh [k(h+z)]}{\\sinh (k h)} &= \\frac{ \\overbrace{\\sinh(kh)}^{kh}\\overbrace{\\cosh(kz)}^{1}+ \\overbrace{\\cosh(kh)}^{1}\\overbrace{\\sinh(kz)}^{kz}   }{\\underbrace{\\sinh(kh)}_{kh}}  \\\\\n",
        " &= \\frac{ kh\\cosh(kz)+ 1\\cdot\\sinh(kz)   }{kh}   \\\\\n",
        " &= 1 + \\frac{kz}{kh} \\\\\n",
        "\\end{align}\n",
        "\n",
        "De manera que la amplitud de la velocidad vertical orbital queda determinada como:\n",
        "\n",
        "$$\\hat{u}_{z}=\\omega a \\left(1 + \\frac{z}{h}\\right)$$\n",
        "\n",
        "Esta expresión muestra que, para aguas someras, la amplitud de la velocidad vertical varía linealmente a lo largo de la vertical."
      ]
    },
    {
      "cell_type": "markdown",
      "metadata": {
        "id": "P2racLzO9DZV"
      },
      "source": [
        "---\n",
        "4) Consideramos un oleaje de 2 m de altura que viaja en aguas profundas con un periodo de 15 s. ¿Cuál es la máxima velocidad orbital horizontal experimentada por un buzo a 20 m de la superficie?\n",
        "\n",
        "* **A. 0.29 m/s**\n",
        "* B. 0.60 m/s \n",
        "* C. 0.95 m/s \n",
        "* D. 1.20 m/s\n"
      ]
    },
    {
      "cell_type": "markdown",
      "metadata": {
        "id": "-doCOcUdg0Pw"
      },
      "source": [
        "La velocidad orbital para la componente horizontal ($x$) es:\n",
        "\n",
        "$$u_{x}=\\omega a \\frac{\\cosh [k(h+z)]}{\\sinh (k h)} \\sin (\\omega t-k x)$$\n",
        "\n",
        "también puede ser expresado como:\n",
        "\n",
        "$$u_{x}=\\hat{u}_{x} \\sin (\\omega t-k x) \\quad \\text{con} \\quad \\hat{u}_{x}=\\omega a \\frac{\\cosh [k(h+z)]}{\\sinh (k h)}$$\n",
        "\n",
        "En aguas profundas, i.e., cuando $kh\\longrightarrow \\infty$, tenemos que:\n",
        "\n",
        "\\begin{align}\n",
        "\\frac{\\cosh[k(h+z)]}{\\sinh(kh)} &= \\frac{\\cosh(kz)\\cosh(kh)+ \\sinh(kz)\\sinh(kh)}{\\sinh(kh)}  \\\\\n",
        " &= \\cosh(kz)\\cdot\\underbrace{\\tanh(kh)}_{1} + \\sinh(kz) \\\\\n",
        " &= \\underbrace{\\cosh(kz) + \\sinh(kz)}_{e^{kz}} \\\\\n",
        "\\end{align}\n",
        "\n",
        "\n",
        "De manera que la amplitud de la velocidad vertical orbital queda determinada como:\n",
        "\n",
        "$$\\hat{u}_{x}=\\omega a e^{kz}$$"
      ]
    },
    {
      "cell_type": "code",
      "metadata": {
        "id": "32nIIclKMoVQ",
        "outputId": "df6223ef-dbaf-48c9-9a9f-760c13e0ae92",
        "colab": {
          "base_uri": "https://localhost:8080/",
          "height": 55
        }
      },
      "source": [
        "#Datos\n",
        "H = 2   #(m)\n",
        "T = 15  #(s)\n",
        "z = -20 #(m)\n",
        "\n",
        "w = 2*np.pi/T\n",
        "k = w**2/g\n",
        "a = H/2\n",
        "\n",
        "u_x = w*a*np.exp(k*z)\n",
        "\n",
        "print('La máxima velocidad horizontal orbital es:',np.round(u_x,2),'m/s')"
      ],
      "execution_count": null,
      "outputs": [
        {
          "output_type": "stream",
          "text": [
            "La máxima velocidad horizontal orbital es: 0.29 m/s\n"
          ],
          "name": "stdout"
        }
      ]
    },
    {
      "cell_type": "markdown",
      "metadata": {
        "id": "621yw2Ut8t7K"
      },
      "source": [
        "5) Una onda de tsunami se propaga en las profundidades del océano (h = 5 km) con una longitud de onda característica de 200 km. ¿Cuál es su velocidad de propagación?\n",
        "\n",
        "* **A. 221 m/s** \n",
        "* B. 279 m/s \n",
        "* C. 420 m/s \n",
        "* D. 110 m/s\n"
      ]
    },
    {
      "cell_type": "markdown",
      "metadata": {
        "id": "kxPSpr5YUG4w"
      },
      "source": [
        "La longitud de onda de un tsunami es del orden de cientos de kilometros (200 km). Como la profundidad del océano (5000 m) es mucho menor que la longitud de esta onda, podemos considerar que un tsunami es una onda que se propaga en aguas someras. En aguas poco profundas, la velocidad de fase es igual a:\n",
        "\n",
        "$$C = \\sqrt{gh}$$\n",
        "\n",
        "Donde:\n",
        "\n",
        "* $h$: profundad\n",
        "* $g$: aceleración de gravedad.\n"
      ]
    },
    {
      "cell_type": "code",
      "metadata": {
        "id": "C6AAORgaLcJ_",
        "outputId": "909e4d42-0b80-43e2-8db3-b6aec944c28a",
        "colab": {
          "base_uri": "https://localhost:8080/",
          "height": 55
        }
      },
      "source": [
        "#Datos\n",
        "h = 5000 #(m) \n",
        "\n",
        "#Un tsunami se propaga como una onda larga. Su velocidad está dada por:\n",
        "C = np.sqrt(g*h) #(m/s)\n",
        "\n",
        "print('La velocidad de propagación es:',np.round(C,2),'m/s')"
      ],
      "execution_count": null,
      "outputs": [
        {
          "output_type": "stream",
          "text": [
            "La velocidad de propagación es: 221.47 m/s\n"
          ],
          "name": "stdout"
        }
      ]
    },
    {
      "cell_type": "markdown",
      "metadata": {
        "id": "ESAPkSrI8tsD"
      },
      "source": [
        "---\n",
        "6) La siguiente figura muestra una serie de tiempo de la presión total registrada por un sensor de presión desplegado un metro por encima del lecho marino. La señal de presión tiene un periodo de 6 s, una amplitud de 4905 N/m2 y oscila alrededor de un valor medio de 93200 N/m2."
      ]
    },
    {
      "cell_type": "markdown",
      "metadata": {
        "id": "hxjYKIr5Oqec"
      },
      "source": [
        "a) ¿Cuál es la profundidad media del agua en la ubicación del sensor?\n",
        "\n",
        "* A. 8.5m\n",
        "* B. 9.5m\n",
        "* **C. 10.5m**\n",
        "* D. 12.5m "
      ]
    },
    {
      "cell_type": "markdown",
      "metadata": {
        "id": "tNznaiPQU0Lt"
      },
      "source": [
        "La expresión de la presión total derivada de la teoría lineal es:\n",
        "\n",
        "$$P = -\\rho g z + \\rho g \\eta K_{p}(z)$$\n",
        "\n",
        "Con:\n",
        "\n",
        "$$\\eta = \\frac{H}{2}\\cos(kx- \\omega t)$$\n",
        "\n",
        "$$K_{p}(z) = \\frac{\\cosh(k[h+z])}{\\cosh(kh)}$$\n",
        "\n",
        "Si sumamos y restamos la amplitud a la presión media, obtendremos los valores de presión máxima y mínima:\n",
        "\n",
        "$$P_{max} = P_{media} + P_{a}$$\n",
        "$$P_{max} = P_{media} - P_{a}$$\n",
        "\n",
        "Lo unico que hace variar las mediciones de presión para un mismo punto es el paso de las ondas (superficie libre). De manera que los valores máximos y mínimos de presión vienen dados en función del máximo y mínimo de la superficie libre, así:\n",
        "\n",
        "$$P_{max} = -\\rho g (-h+1) + \\rho g \\frac{H}{2} K_{p}(z)$$\n",
        "$$P_{min} = -\\rho g (-h+1) - \\rho g \\frac{H}{2} K_{p}(z)$$\n",
        "\n",
        "con:\n",
        "\n",
        "$$K_{p}(-h+1) = \\frac{\\cosh(k)}{\\cosh(kh)}$$\n",
        "\n",
        "Si sumamos las expresiones anteriores:\n",
        "\n",
        "$$P_{max}+P_{min} = -2\\rho g(-h+1)$$\n",
        "\n",
        "Despejando para $h$:\n",
        "\n",
        "$$h = \\frac{P_{max}+P_{min}}{2\\rho g} +1$$\n",
        "\n"
      ]
    },
    {
      "cell_type": "code",
      "metadata": {
        "id": "70NxaA_-Ox3U",
        "outputId": "fafcaa67-9141-4111-b45b-6dec28b989e3",
        "colab": {
          "base_uri": "https://localhost:8080/",
          "height": 55
        }
      },
      "source": [
        "#Datos\n",
        "T       = 6     #(s)\n",
        "P_a     = 4905  #(N/m2)\n",
        "P_media = 93200 #(N/m2)\n",
        "delta_z = 1     #(m)   \n",
        "\n",
        "#Presion Máxima y Mínima\n",
        "P_max = P_media + P_a\n",
        "P_min = P_media - P_a\n",
        "\n",
        "h = ((P_max+P_min)/(2*rho*g)) + 1\n",
        "\n",
        "print('La velocidad de propagación es:',np.round(h,2),'m')"
      ],
      "execution_count": null,
      "outputs": [
        {
          "output_type": "stream",
          "text": [
            "La velocidad de propagación es: 10.5 m\n"
          ],
          "name": "stdout"
        }
      ]
    },
    {
      "cell_type": "markdown",
      "metadata": {
        "id": "JhZvhuG4OqKR"
      },
      "source": [
        "b) ¿Cuál es la altura de ola medida por este sensor de presión? (elige la respuesta más cercana)\n",
        "\n",
        "* A. 0.5m\n",
        "* B. 1m\n",
        "* **C. 1.9m**\n",
        "* D. 2.6m"
      ]
    },
    {
      "cell_type": "markdown",
      "metadata": {
        "id": "EUcyF0cflNVW"
      },
      "source": [
        "Para obtener la altura basta con restar las siguientes expresiones:\n",
        "\n",
        "$$P_{max} = -\\rho g (-h+1) + \\rho g \\frac{H}{2} K_{p}(z)$$\n",
        "$$P_{min} = -\\rho g (-h+1) - \\rho g \\frac{H}{2} K_{p}(z)$$\n",
        "\n",
        "Así:\n",
        "\n",
        "$$P_{max}-P_{min} = 2\\rho g\\frac{H}{2} \\frac{\\cosh(k)}{\\cosh(kh)}$$\n",
        "\n",
        "Despejando para $H$:\n",
        "\n",
        "$$H = \\left(\\frac{P_{max}-P_{min}}{\\rho g}\\right) \\frac{\\cosh(kh)}{\\cosh(k)} $$"
      ]
    },
    {
      "cell_type": "code",
      "metadata": {
        "id": "5Vab8W5LRQS1",
        "outputId": "81decb69-b96c-44b8-f912-ede0e6fa858b",
        "colab": {
          "base_uri": "https://localhost:8080/",
          "height": 55
        }
      },
      "source": [
        "C = disper(T,h)\n",
        "w = 2*np.pi/T\n",
        "k = w/C\n",
        "\n",
        "H = ((P_max-P_min)/(rho*g))*(np.cosh(k*h)/np.cosh(k))\n",
        "\n",
        "print('La altura de ola es:',np.round(H,2),'m')"
      ],
      "execution_count": null,
      "outputs": [
        {
          "output_type": "stream",
          "text": [
            "La altura de ola es: 2.03 m\n"
          ],
          "name": "stdout"
        }
      ]
    },
    {
      "cell_type": "markdown",
      "metadata": {
        "id": "wj5-c0o2hAsa"
      },
      "source": [
        "---\n",
        "## Preguntas de Desarrollo Conceptual"
      ]
    },
    {
      "cell_type": "markdown",
      "metadata": {
        "id": "Myqd11OphIdl"
      },
      "source": [
        "---\n",
        "[Capítulo 1 (Masselink and Hughes)]:\n",
        "\n",
        "1) En el puerto de San Antonio se ha proyectado la construcción de un Puerto de Gran Escala (PGE) que ampliará la capacidad del puerto actual. Explique las propiedades de un sistema costero, como el que se encuentra en este puerto, y de qué manera estas podrían verse afectadas por la construcción de este proyecto.\n"
      ]
    },
    {
      "cell_type": "markdown",
      "metadata": {
        "id": "hjLNa8Ev86fV"
      },
      "source": [
        "El sistema costero en sí tiene cuatro propiedades principales que corresponden al flujo de energía y material a través del sistema: 1) los **procesos** que representan la energía y el material en tránsito de una parte del sistema a otra. 2) la interacción entre un fluido en movimiento y el lecho resultando en arrastre y **transporte de sedimentos**. 3) la forma tridimensional de un relieve (**morfología**). 4) la historia estratificada de sedimentos dentro del relieve (**Estratigrafía**). \n",
        "\n",
        "La propiedad más importante que podría verse afectada por la cosntrucción del PGE es el **Transporte de sedimentos**. Una nueva configuración podría cambiar totalmente el panorama de la distribución de depositación y erosión de la costa.  "
      ]
    },
    {
      "cell_type": "markdown",
      "metadata": {
        "id": "MPA0kkWvhILt"
      },
      "source": [
        "---\n",
        "[Capítulo 3 (Masselink and Hughes)]:\n",
        "\n",
        "2) La siguiente figura presenta un registro de mareas en Valparaíso:\n"
      ]
    },
    {
      "cell_type": "markdown",
      "metadata": {
        "id": "7UcJOl2PhHxI"
      },
      "source": [
        "* a)\tExplique brevemente la evolución temporal del registro de mareas, tanto a escala semanal cómo diaria. Qué factores explican este comportamiento?. Puede utilizar dibujos o esquemas.\n",
        "* b)\tSi una bahía tiene una profundidad media de 80 m y una longitud de 500 km, calcule el primer modo de frecuencia de oscilación natural e indique si se debiera esperar amplificación de mareas en ella.\n"
      ]
    },
    {
      "cell_type": "markdown",
      "metadata": {
        "id": "CgrArGmFlBun"
      },
      "source": [
        "a) La modulación de las amplitudes a lo largo del registro se explica mediante el ciclo lunar con una envolvente de amplitud con 2 máximos (luna llena y luna nueva, sisigias) y 2 mínimos (Cuadraturas).\n",
        "\n",
        "La asimetría a escala diaria está compuesta de 2 mareas altas y 2 mareas bajas de distinta magnitud. Esto se explica por la declinación relativa de la luna respecto al Ecuador. Los pleamares ocurren dos veces en un ciclo de rotación terrestre (~ 24 horas) debido a las fuerzas de atracción gravitacional y centrípetas.\n",
        "\n",
        "Ambos fenómenos se deben fundamentalmente a la interacción de fuerzas de atracción de la luna y el sol y sus movimientos relativos.\n",
        "\n",
        "\n",
        "b) Para que una bahía pueda resonar producto de las mareas, se necesita que el periodo de oscilación de las mareas sea proporcional al periodo natural de la bahía. La fórmula de Merian brinda un primera aproximación para el periodo resonante de la bahía:\n",
        "\n",
        "$$T=\\frac{2 L_{b}}{\\sqrt{gh}}$$\n",
        "\n",
        "Tomando: $L_{b}$ = 500 km y $h$ = 80 m, tenemos:\n",
        "\n",
        "$$T \\approx 10 \\;\\text{Horas}$$\n",
        "\n",
        "Lo que corresponde a un periodo de orden similar al periodo de mareas semi-diurnas. Esto podría provocar amplificación de las ondas de mareas al interior de la bahía."
      ]
    },
    {
      "cell_type": "markdown",
      "metadata": {
        "id": "KuZ-cAvzhc9b"
      },
      "source": [
        "---\n",
        "[Capítulo 5 (L.H. Holthuijsen.)]:\n",
        "\n",
        "Esta pregunta se basa en datos de campo obtenidos durante el Joint North Sea Wave Project (JONSWAP, Hasselmann et al., 1993). Se registraron series de tiempo de elevación de la superficie del mar en varios lugares a lo largo de un transecto costero (todo en aguas profundas). La Figura muestra los espectros de densidad de varianza calculados a partir de los registros de olas a diferentes distancias de la costa. Cuando se realizaron estas mediciones, el viento era offshore.\n"
      ]
    },
    {
      "cell_type": "markdown",
      "metadata": {
        "id": "4LEk1N8ZhcyA"
      },
      "source": [
        "* a)\tDefina y explique el espectro de densidad de varianza (1D) y discuta los problemas encontrados cuando se calcula a partir de datos de campo (es decir, a partir de un registro de onda único de duración D muestreado a la frecuencia Fs). Explique cómo se manejan estos problemas en la práctica.\n",
        "* b)\t¿Cuál sería una frecuencia de muestreo adecuada Fs y una duración D de los registros de onda para obtener estimaciones confiables de los espectros de densidad de varianza que se muestran en la Figura? Justifica cuidadosamente tu respuesta. (Indicación: La resolución espectral debe ser lo suficientemente alta como para tener siempre al menos 10 estimaciones espectrales por debajo de la frecuencia máxima).\n"
      ]
    },
    {
      "cell_type": "markdown",
      "metadata": {
        "id": "Yq9x0AeciILD"
      },
      "source": [
        "* a) El espectro de densidad de varianza (1D) representa la distribución de la varianza de la elevación de la superficie sobre las frecuencias. Como la energía de las olas es proporcional a la varianza, el espectro también muestra la distribución de la energía de las olas en las frecuencias.\n",
        "\n",
        "Hay 4 problemas prácticos con este enfoque:\n",
        "\n",
        "Problemas:\n",
        "* **Duración finita**: solo tenemos un registro de duración finita, y como $\\Delta f = 1/D$, esto significa que tenemos una resolución espectral finita. Por lo tanto, no podemos tomar el límite $\\Delta f \\longrightarrow 0$. Queremos que la duración sea lo más larga posible para resolver los detalles más finos en el espectro, pero lo suficientemente corta para que las ondas aún puedan considerarse estacionarias.\n",
        "\n",
        "* **Único Registro**: con nuestro registro, obtenemos una única realización de la amplitud, que es una estimación muy pobre del valor esperado (error del orden del 100%). Para obtener una mejor estimación, podemos subdividir el registro de tiempo en $N$ registros de tiempo separados, calcular el espectro para cada registro individual y luego estimar el espectro final como la media de todos los $N$ espectros. Esto reduce el error en un factor de $1/\\sqrt{N}$. La desventaja es que la resolución espectral se vuelve más gruesa (empeora), por lo que existe un trade-off entre resolución y precisión.\n",
        "\n",
        "* **Registro Discreto**: en la práctica, el registro de tiempo se muestrea en algún intervalo de tiempo discreto $\\Delta t$, lo que significa que la frecuencia máxima que podemos distinguir es la frecuencia de Nyquist $f_{nyquist} = 1 /(2\\Delta t)$. Las frecuencias por encima de la frecuencia de Nyquist se distinguen como frecuencias más bajas (la energía de las ondas por encima de la frecuencia de Nyquist se incluye erróneamente en las energías por debajo de la frecuencia de Nyquist), esto se conoce como Aliasing. Para evitar que esto distorsione demasiado el espectro medido, debemos asegurarnos de que el intervalo de muestreo sea lo suficientemente alto, mucho mayor que las frecuencias de interés (por ejemplo, 10 veces la frecuencia peak).\n",
        "\n",
        "* **Errores de medición**.\n",
        "\n",
        "* b) La duración ($D$) está determinada por la resolución de frecuencia requerida y la confiabilidad. Si se necesita una resolución de 1/10 de la frecuencia peak para resolver la parte de baja frecuencia del espectro, entonces un segmento del registro de tiempo debe tener $10/f_{peak}$ de longitud. Si un error del 15\\%, digamos, es aceptable, entonces se necesita un cuasi-conjunto de $p = 50$ de tales segmentos (error de muestreo de la densidad espectral $\\approx 100\\%/\\sqrt{p}$). Esto da una duración de registro total de\n",
        "$50\\times D$. La frecuencia de muestreo está determinada por La frecuencia de Nyquist $f_{nyquist} = F_{s} /2$."
      ]
    },
    {
      "cell_type": "markdown",
      "metadata": {
        "id": "jtT2vueThkRc"
      },
      "source": [
        "---\n",
        "[Capítulo 6 (L.H. Holthuijsen.)]:\n",
        "\n",
        "Considere un lago de aguas profundas como en la siguiente figura (tenga en cuenta las dimensiones geográficas). El viento (35 m/s) es constante en el espacio y el tiempo y lleva muchos días soplando. Describa la técnica relativamente simple que está disponible para estimar la altura de ola significativa en la ubicación indicada. Explique todas las variables que se utilizan.\n"
      ]
    },
    {
      "cell_type": "markdown",
      "metadata": {
        "id": "lKbiLI0mn1uu"
      },
      "source": [
        "Bajo ciertas condiciones idealizadas (viento constante que sopla perpendicularmente desde una línea costera larga y recta sobre aguas profundas), la altura significativa de las olas está determinada por el viento, la distancia a la línea costera contra el viento (Fetch) y el tiempo desde que el viento comenzó a soplar (duración ).\n",
        "\n",
        "Por lo general, se considera que la duración es infinitamente larga (en aplicaciones prácticas, lo suficientemente larga como para que la duración exacta sea irrelevante), de modo que la velocidad del viento y su Fetch son los únicos factores determinantes.\n",
        "\n",
        "Se determina el Fetch adimensional como:\n",
        "\n",
        "$$\\tilde{F} = \\frac{gF}{U_{10}^{2}}$$\n",
        "\n",
        "Donde:\n",
        "* $F$: Distancia sobre la cual sopla el viento.\n",
        "* $U_{10}$: Viento horizontal a 10 metros de elevación.\n",
        "* $g$: Aceleración de gravedad.\n",
        "\n",
        "En Fetches Cortos, las olas crecen con bastante rapidez (youn sea states), pero gradualmente el crecimiento se ralentiza hasta que finalmente se detiene (la velocidad de las olas más largas se acerca a la velocidad del viento y la ruptura de las olas equilibra la transferencia de energía del viento a las olas). En estas condiciones típicas de Fetch-limitado (en lagos y embalses), se utilizan comúnmente una ley de potencia simple para determinar la altura significativa:\n",
        "\n",
        "$$\\tilde{H} = a_{1}\\tilde{F}^{b1}$$\n",
        "\n",
        "Observaciones empíricas muestran valores de $a_{1} = 2.88\\times 10^{-3}$ y $b_{1} = 0.45$ (Kahma & Calkoen, 1992).\n",
        "\n",
        "Con esto se puede reemplazar en las relaciones universales para la altura de ola significativa adimensional:\n",
        "\n",
        "$$\\tilde{H}_{1/3} = \\frac{g H_{1/3}}{U_{10}^{2}}$$"
      ]
    }
  ]
}