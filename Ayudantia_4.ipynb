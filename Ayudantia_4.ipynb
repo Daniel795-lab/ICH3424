{
  "nbformat": 4,
  "nbformat_minor": 0,
  "metadata": {
    "colab": {
      "name": "Ayudantia_4.ipynb",
      "provenance": [],
      "authorship_tag": "ABX9TyNioNRpH6t3SxbvhzG5jNN5",
      "include_colab_link": true
    },
    "kernelspec": {
      "name": "python3",
      "display_name": "Python 3"
    }
  },
  "cells": [
    {
      "cell_type": "markdown",
      "metadata": {
        "id": "view-in-github",
        "colab_type": "text"
      },
      "source": [
        "<a href=\"https://colab.research.google.com/github/mqquiroz/ICH3424/blob/master/Ayudantia_4.ipynb\" target=\"_parent\"><img src=\"https://colab.research.google.com/assets/colab-badge.svg\" alt=\"Open In Colab\"/></a>"
      ]
    },
    {
      "cell_type": "markdown",
      "metadata": {
        "id": "EJcH1Vf9SUWX",
        "colab_type": "text"
      },
      "source": [
        "# Ayudantía 4 - Ingeniería de Costas - ICH3424\n",
        "\n",
        "## Metodo de Runge-Kutta de 4to Orden (RK4)\n",
        "\n",
        "La idea general de los Métodos de Runge-Kutta es sustituir el Problema de Valor Inicial:\n",
        "\n",
        "$$\\left.\\begin{array}{l}\n",
        "y^{\\prime}=f(x, y) \\\\\n",
        "y\\left(x_{0}\\right)=y_{0}\n",
        "\\end{array}\\right\\}$$\n",
        "\n",
        "por la ecuación integral equivalente:\n",
        "\n",
        "$$\\int_{y_{0}}^{y} d y=\\int_{x_{0}}^{x} f(x, y(x)) d x \\Rightarrow y=y_{0}+\\int_{x_{0}}^{x} f(x, y(x)) dx$$\n",
        "\n",
        "### Método de Runge-Kutta de 4to orden\n",
        "\n",
        "El Método de cuarto orden más habitual es el determinado por las fórmulas siguientes:\n",
        "\n",
        "$$\\begin{aligned}\n",
        "k_{1}   &= f\\left(x_{n}, y_{n}\\right) \\\\\n",
        "k_{2}   &= f\\left(x_{n}+\\frac{h}{2}, y_{n}+\\frac{1}{2}k_{1}h \\right) \\\\\n",
        "k_{3}   &= f\\left(x_{n}+\\frac{h}{2}, y_{n}+\\frac{1}{2}k_{2}h \\right) \\\\\n",
        "k_{4}   &= f\\left(x_{n}+h, y_{n}+hk_{3}\\right) \\\\\n",
        "x_{n+1} &= x_{n} + h  \\\\\n",
        "y_{n+1} &= y_{n}+\\frac{h}{6}\\left(k_{1}+2 k_{2}+2 k_{3}+k_{4}\\right)\n",
        "\\end{aligned}$$"
      ]
    },
    {
      "cell_type": "markdown",
      "metadata": {
        "id": "Ogie21bKSbQa",
        "colab_type": "text"
      },
      "source": [
        "## Ejercicio 1: Simple EDO (RK4)\n",
        "\n",
        "Ejercicio sencillo resolviendo EDO con condiciones iniciales usando Runge-Kutta de 4to Orden (RK4).\n",
        "\n",
        "$$\\left\\{\\begin{align}\n",
        "\\frac{dy}{dx} & = xy\\\\ \\\\\n",
        "y(0)          & =2\n",
        "\\end{align}\\right.$$\n",
        "\n",
        "Resolviendo analíticamente:\n",
        "\n",
        "$$\\begin{align}\n",
        "\\frac{dy}{dx}    & = xy\\\\\n",
        "\\frac{dy}{y}     & = x\\cdot dx\\\\\n",
        "\\int\\frac{dy}{y} & = \\int x\\cdot dx\\\\\n",
        "\\ln(y)+C_{1}     & = \\frac{x^{2}}{2}+C_{2}\\\\\n",
        "\\ln(y)           & = \\frac{x^{2}}{2}+C_{3}\\\\\n",
        "y                & = e^{\\frac{x^{2}}{2}+C_{3}}\\\\\n",
        "y                & = \\underbrace{e^{C_{3}}}_{C} \\cdot e^{\\frac{x^{2}}{2}}\\\\\n",
        "y                & = C \\cdot e^{\\frac{x^{2}}{2}}\n",
        "\\end{align}$$\n",
        "\n",
        "Aplicando la condición inicial:\n",
        "\n",
        "$$y(x=0)=2=C \\cdot e^{\\frac{0^{2}}{2}} \\Rightarrow C =2$$\n",
        "\n",
        "Así, la solución analítica es:\n",
        "\n",
        "\n",
        "$$y = 2\\cdot e^{\\frac{x^{2}}{2}}$$\n"
      ]
    },
    {
      "cell_type": "code",
      "metadata": {
        "id": "SvHFS0AsSQn2",
        "colab_type": "code",
        "colab": {}
      },
      "source": [
        "# Librerias\n",
        "import numpy as np\n",
        "import matplotlib.pyplot as plt"
      ],
      "execution_count": 4,
      "outputs": []
    },
    {
      "cell_type": "code",
      "metadata": {
        "id": "9rUwInZKVTnC",
        "colab_type": "code",
        "colab": {}
      },
      "source": [
        "#Inputs\n",
        "dx   = 0.005\n",
        "xmax = 1.0\n",
        "\n",
        "x_sol = np.arange(0,xmax+dx,dx)\n",
        "y_analitico = 2*np.exp(0.5*(x_sol**2))\n",
        "\n",
        "#RK4\n",
        "# paso en x\n",
        "h = 0.25\n",
        "n_pasos = int(xmax/h)+ 1\n",
        "\n",
        "f = lambda x,y: x*y\n",
        "\n",
        "# Condiciones iniciales\n",
        "x0 = 0.0\n",
        "y0 = 2.0\n",
        "\n",
        "x     = np.zeros(n_pasos)\n",
        "y_num = np.zeros(n_pasos)\n",
        "\n",
        "x[0]     = x0\n",
        "y_num[0] = y0\n",
        "\n",
        "\n"
      ],
      "execution_count": 5,
      "outputs": []
    },
    {
      "cell_type": "code",
      "metadata": {
        "id": "G0XxZ4xDWzyI",
        "colab_type": "code",
        "colab": {}
      },
      "source": [
        "#RK4\n",
        "for i in range(n_pasos-1):\n",
        "  k1 = f(x[i],y_num[i])\n",
        "  k2 = f(x[i]+(0.5*h),y_num[i]+(h*0.5*k1))\n",
        "  k3 = f(x[i]+(0.5*h),y_num[i]+(h*0.5*k2))\n",
        "  k4 = f(x[i]+h,y_num[i]+h*k3)\n",
        "\n",
        "  x[i+1]     = x[i] + h\n",
        "  y_num[i+1] = y_num[i] + (h/6)*(k1 + 2*k2 + 2*k3 + k4)"
      ],
      "execution_count": 6,
      "outputs": []
    },
    {
      "cell_type": "code",
      "metadata": {
        "id": "GThoXW9rYi-4",
        "colab_type": "code",
        "colab": {
          "base_uri": "https://localhost:8080/",
          "height": 626
        },
        "outputId": "41390cbe-3113-4a99-fa8a-bf9f63c57330"
      },
      "source": [
        "plt.figure(figsize=(10,10))\n",
        "plt.plot(x_sol,y_analitico,'b',label='Analitico')\n",
        "plt.plot(x,y_num,'r',label='Numerico (RK4)')\n",
        "plt.grid()\n",
        "\n",
        "plt.ylabel('y')\n",
        "plt.xlabel('x')\n",
        "plt.legend()\n",
        "plt.xlim(0,xmax)\n",
        "plt.ylim(1.95,3.5)\n",
        "plt.show()\n"
      ],
      "execution_count": 7,
      "outputs": [
        {
          "output_type": "display_data",
          "data": {
            "image/png": "[encoded data removed]",
            "text/plain": [
              "<Figure size 720x720 with 1 Axes>"
            ]
          },
          "metadata": {
            "tags": [],
            "needs_background": "light"
          }
        }
      ]
    },
    {
      "cell_type": "markdown",
      "metadata": {
        "id": "ngJSC8arSypM",
        "colab_type": "text"
      },
      "source": [
        "### Sistemas de EDO - RK4\n",
        "\n",
        "Comencemos con el Método RK4 aplicado a un sistema de dos ecuaciones de\n",
        "primer orden:\n",
        "\n",
        "$$\\left.\\begin{array}{rl}\n",
        "\\displaystyle\\frac{dx}{dt} & =f_{1}(t, x, y) \\\\\n",
        "\\displaystyle\\frac{dy}{dt} & =f_{2}(t, x, y) \\\\\n",
        "x(0) & = x_{0} \\\\\n",
        "y(0) & = y_{0}\n",
        "\\end{array}\\right\\}$$\n",
        "\n",
        "La extensión natural del método ya expuesto nos conduce a las expresiones:\n",
        "\n",
        "$$\\begin{aligned}\n",
        "k_{1}   &= f_{1}\\left(t_{n},x_{n}, y_{n}\\right) \\\\[0.5ex]\n",
        "l_{1}   &= f_{2}\\left(t_{n},x_{n}, y_{n}\\right) \\\\[0.5ex]\n",
        "k_{2}   &= f_{1}\\left(t_{n}+\\frac{h}{2},x_{n}+\\frac{1}{2}k_{1}h ,y_{n}+\\frac{1}{2}l_{1}h\\right) \\\\[0.5ex]\n",
        "l_{2}   &= f_{2}\\left(t_{n}+\\frac{h}{2},x_{n}+\\frac{1}{2}k_{1}h ,y_{n}+\\frac{1}{2}l_{1}h\\right) \\\\[0.5ex]\n",
        "k_{3}   &= f_{1}\\left(t_{n}+\\frac{h}{2},x_{n}+\\frac{1}{2}k_{2}h,y_{n}+\\frac{1}{2}l_{2}h\\right) \\\\[0.5ex]\n",
        "l_{3}   &= f_{2}\\left(t_{n}+\\frac{h}{2},x_{n}+\\frac{1}{2}k_{2}h,y_{n}+\\frac{1}{2}l_{2}h\\right) \\\\[0.5ex]\n",
        "k_{4}   &= f_{1}\\left(t_{n}+h,x_{n}+k_{3}h ,y_{n}+l_{3}h\\right) \\\\[0.5ex]\n",
        "l_{4}   &= f_{2}\\left(t_{n}+h,x_{n}+k_{3}h ,y_{n}+l_{3}h\\right) \\\\[0.5ex]\n",
        "t_{n+1} &= t_{n} + h  \\\\[0.5ex]\n",
        "x_{n+1} &= x_{n}+\\frac{h}{6}\\left(k_{1}+2 k_{2}+2 k_{3}+k_{4}\\right) \\\\[0.5ex]\n",
        "y_{n+1} &= y_{n}+\\frac{h}{6}\\left(l_{1}+2 l_{2}+2 l_{3}+l_{4}\\right) \n",
        "\\end{aligned}$$"
      ]
    },
    {
      "cell_type": "markdown",
      "metadata": {
        "id": "3LKUQAMiS5S-",
        "colab_type": "text"
      },
      "source": [
        "## Ejercicio 2: Péndulo Simple - Sistemas de EDO - RK4\n",
        "\n",
        "### Pendulo Simple\n",
        "\n",
        "La ecuación de movimiento para el péndulo simple viene dada por:\n",
        "\n",
        "$$\\frac{d^{2} \\theta}{d t^{2}}=\\frac{g}{l} \\sin (\\theta)$$\n",
        "\n",
        "donde $g$ es la aceleración debida a la gravedad y $l$ es la longitud del péndulo. Ésta es una ecuación no lineal y no se puede resolver de forma específica excepto en el caso de pequeñas oscilaciones en las que se realiza la aproximación $\\sin(\\theta)\\approx\\theta$. La solución de la ecuación lineal es\n",
        "\n",
        "$$\\theta=a * \\sin (\\beta t+\\phi)$$\n",
        "\n",
        "Donde $a$ y $\\phi$ son arbitrarias, y $\\beta=\\sqrt{\\frac{g}{l}}$\n",
        "\n",
        "También es útil considerar un péndulo impulsado amortiguado (damped driven pendulum), con amortiguación proporcional a la velocidad angular y una fuerza impulsora armónica (harmonic driving force). Las ecuaciones de movimiento se pueden escribir como dos ecuaciones diferenciales de primer orden para el caso no linealizado:\n",
        "\n",
        "$$\\begin{aligned}\n",
        "\\frac{d \\theta}{d t} & = \\omega \\\\\n",
        "\\frac{d \\omega}{d t} & = -\\beta^{2}\\sin(\\theta) - k\\omega + A\\cos(\\Omega)\n",
        "\\end{aligned}$$\n",
        "\n",
        "Aquí, $k$ es un coeficiente de amortiguamiento (damping), $A$ es la amplitude impulsora (driving), y $\\Omega$ es la frecuencia impulsora (driving). Para el caso lineal se reemplaza $\\sin(\\theta)$ con $\\theta$.\n",
        "\n",
        "Podemos asumir los siguientes parámetros para resolver el problema:\n",
        "\n",
        "- $k = 0.25 [1/s]$\n",
        "- $A = 0.0 [1/s^{2}]$\n",
        "- $\\Omega = 0.6667 [rad]$\n",
        "- $\\beta = 1.0 [1/s]$\n",
        "\n",
        "Las condiciones iniciales son:\n",
        "\n",
        "$$\\theta(0) = 30º $$\n",
        "$$\\omega(0) = 0 $$"
      ]
    },
    {
      "cell_type": "code",
      "metadata": {
        "id": "quTqgHfyctVA",
        "colab_type": "code",
        "colab": {}
      },
      "source": [
        "# inputs\n",
        "k = 0.25\n",
        "A = 0.0\n",
        "omega = 0.6667\n",
        "beta  = 1\n",
        "\n",
        "f1 = lambda t,theta,w: w \n",
        "f2 = lambda t,theta,w: (-beta**2)*np.sin(theta) - k*w + A*np.cos(omega)\n",
        "\n",
        "# CI\n",
        "theta0 = 30*(np.pi/180)\n",
        "w0     = 0\n",
        "\n",
        "h = 0.25 # (s)\n",
        "tmax = 35 #(s)\n",
        "n_pasos = np.int(tmax/h)+1\n",
        "\n",
        "# vectores solucion\n",
        "t_num     = np.zeros(n_pasos)\n",
        "theta_num = np.zeros(n_pasos)\n",
        "w_num     = np.zeros(n_pasos)\n",
        "\n",
        "theta_num[0] = theta0\n",
        "w_num[0]     = w0 \n"
      ],
      "execution_count": 8,
      "outputs": []
    },
    {
      "cell_type": "code",
      "metadata": {
        "id": "9LPmhgV0d8lA",
        "colab_type": "code",
        "colab": {}
      },
      "source": [
        "#RK4\n",
        "for i in range(n_pasos-1):\n",
        "  k1 = f1(t_num[i],theta_num[i],w_num[i])\n",
        "  l1 = f2(t_num[i],theta_num[i],w_num[i])\n",
        "\n",
        "  k2 = f1(t_num[i]+ (0.5*h),theta_num[i]+(0.5*h*k1),w_num[i]+(0.5*h*l1))\n",
        "  l2 = f2(t_num[i]+ (0.5*h),theta_num[i]+(0.5*h*k1),w_num[i]+(0.5*h*l1))\n",
        "\n",
        "  k3 = f1(t_num[i]+ (0.5*h),theta_num[i]+(0.5*h*k2),w_num[i]+(0.5*h*l2))\n",
        "  l3 = f2(t_num[i]+ (0.5*h),theta_num[i]+(0.5*h*k2),w_num[i]+(0.5*h*l2))\n",
        "\n",
        "  k4 = f1(t_num[i]+ h,theta_num[i]+(h*k3),w_num[i]+(h*l3))\n",
        "  l4 = f2(t_num[i]+ h,theta_num[i]+(h*k3),w_num[i]+(h*l3))\n",
        "\n",
        "  t_num[i+1]     = t_num[i] + h\n",
        "  theta_num[i+1] = theta_num[i] + (h/6)*(k1 + 2.0*k2 + 2.0*k3 + k4)\n",
        "  w_num[i+1] = w_num[i] + (h/6)*(l1 + 2.0*l2 + 2.0*l3 + l4)"
      ],
      "execution_count": 9,
      "outputs": []
    },
    {
      "cell_type": "code",
      "metadata": {
        "id": "mAN9VTOrfgd-",
        "colab_type": "code",
        "colab": {
          "base_uri": "https://localhost:8080/",
          "height": 300
        },
        "outputId": "27c857e2-b3d8-42fe-f8e0-5be96879f287"
      },
      "source": [
        "plt.plot(t_num,theta_num*(180/np.pi),'b')\n",
        "plt.grid()\n",
        "plt.xlabel('tiempo (s)')\n",
        "plt.ylabel('$\\\\theta$ (deg)')\n",
        "plt.show()"
      ],
      "execution_count": 10,
      "outputs": [
        {
          "output_type": "display_data",
          "data": {
            "image/png": "[encoded data removed]",
            "text/plain": [
              "<Figure size 432x288 with 1 Axes>"
            ]
          },
          "metadata": {
            "tags": [],
            "needs_background": "light"
          }
        }
      ]
    },
    {
      "cell_type": "code",
      "metadata": {
        "id": "7nw3iyEoS6uJ",
        "colab_type": "code",
        "colab": {
          "base_uri": "https://localhost:8080/",
          "height": 300
        },
        "outputId": "8102bc91-b450-4726-d065-f6c390a50717"
      },
      "source": [
        "plt.plot(t_num,w_num,'b')\n",
        "plt.grid()\n",
        "plt.xlabel('tiempo (s)')\n",
        "plt.ylabel('$\\\\omega$ (rad/s)')\n",
        "plt.show()"
      ],
      "execution_count": 11,
      "outputs": [
        {
          "output_type": "display_data",
          "data": {
            "image/png": "[encoded data removed]",
            "text/plain": [
              "<Figure size 432x288 with 1 Axes>"
            ]
          },
          "metadata": {
            "tags": [],
            "needs_background": "light"
          }
        }
      ]
    }
  ]
}