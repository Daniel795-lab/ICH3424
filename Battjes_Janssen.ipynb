{
  "nbformat": 4,
  "nbformat_minor": 0,
  "metadata": {
    "colab": {
      "name": "Battjes_Janssen.ipynb",
      "provenance": [],
      "authorship_tag": "ABX9TyOOeY5ilbnTLnfCWHrHY2hp",
      "include_colab_link": true
    },
    "kernelspec": {
      "name": "python3",
      "display_name": "Python 3"
    }
  },
  "cells": [
    {
      "cell_type": "markdown",
      "metadata": {
        "id": "view-in-github",
        "colab_type": "text"
      },
      "source": [
        "<a href=\"https://colab.research.google.com/github/mqquiroz/ICH3424/blob/master/Battjes_Janssen.ipynb\" target=\"_parent\"><img src=\"https://colab.research.google.com/assets/colab-badge.svg\" alt=\"Open In Colab\"/></a>"
      ]
    },
    {
      "cell_type": "markdown",
      "metadata": {
        "id": "gfYDzg-MYT5f"
      },
      "source": [
        "# Ayudantía 10 - ICH3424 Ingeniería de Costas\n",
        "## Hidrodinámica en la Zona de Rompientes\n",
        "### Aplicación del Modelo de Battjes y Janssen (1978)"
      ]
    },
    {
      "cell_type": "markdown",
      "metadata": {
        "id": "sZAmFPt8STov"
      },
      "source": [
        "#### Conservación de la energía para calcular la evolución de la altura de ola:\n",
        "\n",
        "$$\\underbrace{\\frac{\\left(E C_{g}\\right)_{2}-\\left(E C_{g}\\right)_{1}}{\\Delta x}}_{\\frac{dE C_{g}}{dx}}= -\\overline{D}_{b}= -\\frac{\\rho g}{4} f \\frac{H^{3}}{h}\\quad \\text{Battjes and Janssen (1978)}$$\n",
        "\n",
        "#### Conservación de la cantidad de movimiento para calcular la evolución del nivel medio del mar:\n",
        "\n",
        "$$\\frac{d S_{x x}}{d x}=-\\rho g(h+\\bar{\\eta}) \\cdot \\frac{d \\bar{\\eta}}{d x}$$\n",
        "\n",
        "Battjes y Janssen (1978) propusieron calcular $\\overline{D}_{b}$ a través de la multiplicación de la fracción de oals rompiendo ($Q_{b}$) poor la disipación de energía de una única ola rompiendo. \n",
        "\n",
        "La disipación de energía de rotura de una ola es determinada desde un modelo de disipación tipo-bore simplificado y asume que todas las olas que rompen tienen una altura igual a la altura de rompimiento ($H_{b}$), así:\n",
        "\n",
        "$$\\overline{D}_{b}=Q_{b} \\frac{\\rho g H_{b}^{2}}{4 T_{p}}$$\n",
        "\n",
        "Donde:\n",
        "\n",
        "$Q_{b}$: Fracción de olas rompiendo.\n",
        "\n",
        "$T_{p}$: Periodo Peak.\n",
        "\n",
        "$Q_{b}$ fue derivado basado en el supuesto que la función de densidad de probabilidad de las alturas de ola puede ser modelada con una distribución de Rayleigh truncada en la altura de rompimiento y que todas las olas que rompen tienen una altura igual a la altura de rompimiento, así:\n",
        "\n",
        "$$\\frac{1-Q_{b}}{-\\ln Q_{b}}=\\left(\\frac{H_{\\mathrm{rms}}}{H_{b}}\\right)^{2}$$\n",
        "\n",
        "Aquí, la altura de rompimiento es determinada desde la fórmula de Miche (1951), con un coeficiente adimensional ($\\gamma$) en la función tangente hiperbólica:\n",
        "\n",
        "$$\\begin{aligned}\n",
        "H_{b} &=0.14 L \\tanh \\left(\\gamma kh\\right) \\\\\n",
        "&=\\frac{0.88}{k} \\tan h(\\gamma kh) \\quad \\text{con } \\gamma=0.91\n",
        "\\end{aligned}$$"
      ]
    },
    {
      "cell_type": "markdown",
      "metadata": {
        "id": "D8szLwHtZFLC"
      },
      "source": [
        "#### Discretización y resolución de la evolución del oleaje\n",
        "\n",
        "En la aplicación del método de Battjes y Janssen (1978) es necesario diferenciar entre la zona de asomeramiento (shoaling) y la zona de rompientes (surf), esto es definido implícitamente en función de proporcion de oleaje rompiente ($Q_{b}$ será cercano a cero cuando las olas no rompen, y crece en la zona de rompientes).\n",
        "\n",
        "Tomando el modelo de Battjes y Janssen (1978):\n",
        "\n",
        "$$\\frac{d}{d x}\\left(\\frac{1}{8} \\rho g H^{2} C_{g}\\right)=-\\frac{Q_{b} \\rho g H_{b}^{2}}{4 T_{p}}$$\n",
        "\n",
        "Discretizando:\n",
        "\n",
        "$$\\frac{1}{8}\\rho g\\left[H_{i+1}^{2} C_{g_{i+1}}-H_{i}^{2} C_{g_{i}}\\right]=-\\frac{\\rho g}{4 T} \\int_{x_{i}}^{x_{i}+1} Q_{b} H_{b}^{2} d x$$\n",
        "\n",
        "El término del lado derecho debe aproximarse numéricamente:\n",
        "$$\\int_{x_{i}}^{x_{i}+1} Q_{b} H_{b}^{2} d x \\approx Q_{b_{i}} H_{b_{i}}^{2} \\Delta x $$\n",
        "\n",
        "Con:\n",
        "$$\\begin{aligned}\n",
        "H_{b_{i}} &=0.14 L_{i} \\tanh \\left(\\gamma k_{i}h_{i}\\right) \\\\\n",
        "&=\\frac{0.88}{k_{i}} \\tan h(\\gamma k_{i}h_{i}) \\quad \\text{con } \\gamma=0.91\n",
        "\\end{aligned}$$\n",
        "\n",
        "y $Q_{b_{i}}$ se resuelve iterativamente:\n",
        "\n",
        "$$\\frac{1-Q_{b_{i}}}{-\\ln Q_{b_{i}}}=\\left(\\frac{H_{rms_{i}}}{H_{b_{i}}}\\right)^{2}$$\n",
        "\n",
        "Luego:\n",
        "\n",
        "$$H_{i+1}^{2} \\cdot C_{g_{i+1}}=H_{i}^{2}\\cdot C_{g_{i}}-\\frac{2}{T} Q_{b_{i}} H_{b_{i}} \\Delta x$$\n",
        "\n",
        "Así:\n",
        "\n",
        "$$H_{i+1}=\\sqrt{\\frac{H_{i}^{2} C_{g_{i}}-\\frac{2}{T} Q_{b_{i}} H_{b i}^{2} \\Delta x}{C_{g_{i+1}}}}$$\n",
        "\n",
        "Con:\n",
        "\n",
        "$C_{g_{i}}=C_{i}=\\sqrt{gh_{i}}$\n",
        "\n",
        "$C_{g_{i+1}}=C_{i+1}=\\sqrt{gh_{i+1}}$"
      ]
    },
    {
      "cell_type": "markdown",
      "metadata": {
        "id": "ksJK8_Q0d1Uz"
      },
      "source": [
        "#### Discretización y resolución de la variación del nivel medio del mar\n",
        "\n",
        "De la ecuación de conservación del momentum:\n",
        "\n",
        "$$\\frac{d S_{x x}}{d x}=-\\rho g(h+\\bar{\\eta}) \\cdot \\frac{d \\bar{\\eta}}{d x}$$\n",
        "\n",
        "Reescribiendo:\n",
        "\n",
        "$$\\frac{d \\bar{\\eta}}{d x}=-\\frac{1}{\\rho g(h+\\bar{\\eta})} \\cdot \\frac{d S_{x x}}{d x}$$\n",
        "\n",
        "Discretizamos los términos con un esquema forward:\n",
        "\n",
        "$$\\frac{\\bar{\\eta}_{i+1}-\\bar{\\eta}_{i}}{\\Delta x}=-\\frac{1}{\\rho g\\left(h_{i}+\\bar{\\eta}_{i}\\right)}\\left(\\frac{S_{xx_{i+1}}- S_{xx_{i}}}{\\Delta x}\\right)$$\n",
        "\n",
        "De esta forma, para calcular la evolución del nivel medio, se obtiene:\n",
        "\n",
        "$$\\bar{\\eta}_{i+1}=\\bar{\\eta}_{i}-\\frac{1}{\\rho g\\left(h_{i}+\\bar{\\eta}_{i}\\right)}\\left(S_{x x_{i+1}}-S_{x x_{i}}\\right)$$\n",
        "\n",
        "Donde:\n",
        "\n",
        "$S_{xx_{i}}=\\frac{3}{16} \\rho g H_{i}^{2}$\n",
        "\n",
        "$S_{xx_{i+1}}=\\frac{3}{16} \\rho g H_{i+1}^{2}$\n"
      ]
    },
    {
      "cell_type": "code",
      "metadata": {
        "id": "vMtPJ-dWg-id",
        "outputId": "0ac6c8bc-2529-44bc-f48c-255ad6e15879",
        "colab": {
          "base_uri": "https://localhost:8080/",
          "height": 486
        }
      },
      "source": [
        "#Librerias utilizadas\n",
        "import numpy as np\n",
        "import matplotlib.pyplot as plt\n",
        "\n",
        "# Test Hansen and Svendsen (1984)\n",
        "\n",
        "H_wl = 0.1540 # Altura de ondas off-shore\n",
        "T   = 2 # Periodo del oleaje incidente\n",
        "\n",
        "# Batimetría\n",
        "dx = 0.06\n",
        "X  = np.arange(0,(1*7.62)+dx,dx)#7.62\n",
        "Zf = np.array(-1/34*X) # Playa de pendiente uniforme 1/34\n",
        "h  = np.flipud(Zf)\n",
        "x  = np.flipud(X)\n",
        "\n",
        "# Mediciones experimentales\n",
        "\n",
        "# H - alturas de olas medidas\n",
        "Hm   = np.array([0.0510, 0.0670, 0.0800, 0.1100, 0.1650, 0.1730, 0.1540])\n",
        "Xm_H = np.array([2.6000, 3.2200, 4.0800, 5.0800, 6.0900, 6.9200, 7.6200])\n",
        "# Set-up medido\n",
        "MWL_    = np.array([0.0100, 0.0070, 0.0020, -0.0020, -0.0030])\n",
        "Xm_MWL = np.array([2.6000, 3.2200, 4.0800,  5.0800,  6.0900])\n",
        "\n",
        "def Q_BJ(H_H):\n",
        "  # Rattanapitikon & Sawanggun (2007)\n",
        "  a   = [0.231707207858562, -3.609582722187040, 22.594833612442000, -72.536799430847200, 126.870449066162000, -120.567666053772000, 60.741998672485400, -12.725062847137500]\n",
        "  Q_b = 0\n",
        "  for i in range(len(a)):\n",
        "    Q  = a[i]*(H_H**i)\n",
        "    Q_b = Q_b + Q\n",
        "  return Q_b\n",
        "\n",
        "\n",
        "g     = 9.81\n",
        "#gamma = 0.78\n",
        "\n",
        "H_0   = H_wl #2 # Altura de la ola (m)\n",
        "MWL_0 = 0 # MEAN WATER LEVEL (MWL)\n",
        "#T     = 10 # Periodo de las olas (s)\n",
        "\n",
        "w     = 2*np.pi/T\n",
        "\n",
        "\n",
        "\n",
        "limite = np.squeeze(np.where(h >= -0.0001)[0])\n",
        "#h      = np.abs(h)\n",
        "\n",
        "H_rms = np.zeros(limite)\n",
        "MWL   = np.zeros(limite)\n",
        "\n",
        "#Condiciones de borde\n",
        "H_rms[0] = H_0\n",
        "MWL[0]   = MWL_0\n",
        "\n",
        "for i in range(limite-1):\n",
        "  dx     = np.abs(x[i+1]-x[i])\n",
        "  k      = w/np.sqrt(g*np.abs(h[i]))\n",
        "  H_b    = (0.88/k)*np.tanh(0.91*k*np.abs(h[i]))\n",
        "  if (H_rms[i]/H_b > 0.3) and (H_rms[i]/H_b < 1.0):\n",
        "    Q_b = Q_BJ(H_rms[i]/H_b)\n",
        "  elif (H_rms[i]/H_b <= 0.3):\n",
        "    Q_b = 0\n",
        "  elif (H_rms[i]/H_b >= 1.0):\n",
        "    Q_b = 1\n",
        "  \n",
        "  H_rms[i+1] = np.sqrt( (  ((H_rms[i]**2)*np.sqrt(g*np.abs(h[i]))) - ( (2/T)*Q_b*(H_b**2)*dx )  ) / np.sqrt(g*np.abs(h[i+1])) )\n",
        "\n",
        "  MWL[i+1] = MWL[i] - ( ((3/16)/(np.abs(h[i])+MWL[i]))*(H_rms[i+1]**2 - H_rms[i]**2) )\n",
        "  #if (MWL[i+1] <= h[i]):\n",
        "  #  break\n",
        "\n",
        "\n",
        "#Plots\n",
        "alto  = 7.5\n",
        "ancho = 8.5\n",
        "fig = plt.figure(figsize=(ancho, alto))\n",
        "\n",
        "# from observed data\n",
        "plt.plot(Xm_H,Hm,'ob')\n",
        "plt.plot(Xm_MWL,MWL_,'x',c='r')\n",
        "#plt.plot(Xm_MWL,MWL,'xr')\n",
        "\n",
        "plt.plot(X,Zf)\n",
        "plt.plot(x[:limite],H_rms[:limite],'b',label='$H$ (m)')\n",
        "plt.plot(x[:limite],MWL[:limite],'r',label='$\\\\overline{\\\\eta}$ - MWL (m)')\n",
        "\n",
        "title    = 'Surf Zone Hydrodynamics'\n",
        "plt.title(title)\n",
        "plt.xlabel('Cross-shore distance (m)')\n",
        "plt.ylim(np.min(Zf),1.25*np.max([H_rms]))\n",
        "plt.xlim(X[0],X[-1])\n",
        "plt.legend()\n",
        "plt.grid(color='lightgray', linestyle='--', linewidth=0.25)\n",
        "plt.show()\n",
        "\n"
      ],
      "execution_count": 1,
      "outputs": [
        {
          "output_type": "display_data",
          "data": {
            "image/png": "[encoded data removed]",
            "text/plain": [
              "<Figure size 612x540 with 1 Axes>"
            ]
          },
          "metadata": {
            "tags": [],
            "needs_background": "light"
          }
        }
      ]
    }
  ]
}